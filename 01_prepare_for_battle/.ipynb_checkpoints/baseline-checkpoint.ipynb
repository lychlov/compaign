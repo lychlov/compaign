{
 "cells": [
  {
   "cell_type": "markdown",
   "metadata": {
    "jupyter": {
     "outputs_hidden": true
    }
   },
   "source": [
    "# 基础编程程序准备"
   ]
  },
  {
   "cell_type": "markdown",
   "metadata": {},
   "source": [
    "## 解题IO框架"
   ]
  },
  {
   "cell_type": "code",
   "execution_count": null,
   "metadata": {},
   "outputs": [],
   "source": [
    "if __name__ == '__main__':\n",
    "    path_to_file = r''+'/{}.txt'\n",
    "    with open(path_to_file.format('in'), 'r') as in_file:\n",
    "        with open(path_to_file.format('out'), 'w', encoding='utf-8') as out_file:\n",
    "            while in_str.readable():\n",
    "                in_line = in_file.readline().strip()\n",
    "                result = ''\n",
    "                out_file.write(\"{}\\n\".format(bool(result)))\n"
   ]
  },
  {
   "cell_type": "markdown",
   "metadata": {},
   "source": [
    "## 图"
   ]
  },
  {
   "cell_type": "markdown",
   "metadata": {},
   "source": [
    "### 找出图的全部路径"
   ]
  },
  {
   "cell_type": "code",
   "execution_count": 1,
   "metadata": {},
   "outputs": [],
   "source": [
    "def find_all_path_with_networkx(edges, start, end, time):\n",
    "    import networkx as nx\n",
    "    g = nx.DiGraph()\n",
    "    g.add_edges_from(edges)\n",
    "    return bool(list(nx.all_simple_paths(g, start, end, time)))\n"
   ]
  },
  {
   "cell_type": "code",
   "execution_count": 2,
   "metadata": {},
   "outputs": [],
   "source": [
    "def find_all_path_with_stack(graph, start, target, time):\n",
    "    if time < 1:\n",
    "        return None\n",
    "    paths = []\n",
    "    visited = [start]\n",
    "    stack = [iter(graph[start])]\n",
    "    while stack:\n",
    "        children = stack[-1]\n",
    "        child = next(children, None)\n",
    "        if child is None:\n",
    "            stack.pop()\n",
    "            visited.pop()\n",
    "        elif len(visited) < time:\n",
    "            if child == target:\n",
    "                paths.append(visited + [target])\n",
    "            elif child not in visited:\n",
    "                visited.append(child)\n",
    "                stack.append(iter(graph[child]))\n",
    "        else:  # len(visited) == cutoff:\n",
    "            if child == target or target in children:\n",
    "                paths.append(visited + [target])\n",
    "            stack.pop()\n",
    "            visited.pop()\n",
    "    return paths\n"
   ]
  },
  {
   "cell_type": "markdown",
   "metadata": {},
   "source": [
    "#### 根据已知边关系求图"
   ]
  },
  {
   "cell_type": "code",
   "execution_count": 3,
   "metadata": {},
   "outputs": [],
   "source": [
    "def draw_graph_with_edges(edges):\n",
    "    graph = {}\n",
    "    for edge in edges:\n",
    "        if edge[0] in graph.keys():\n",
    "            graph[edge[0]].append(edge[1])\n",
    "        else:\n",
    "            graph[edge[0]] = [edge[1]]\n",
    "    return graph"
   ]
  },
  {
   "cell_type": "code",
   "execution_count": 8,
   "metadata": {
    "scrolled": true
   },
   "outputs": [
    {
     "name": "stdout",
     "output_type": "stream",
     "text": [
      "Help on package networkx:\n",
      "\n",
      "NAME\n",
      "    networkx\n",
      "\n",
      "DESCRIPTION\n",
      "    NetworkX\n",
      "    ========\n",
      "    \n",
      "    NetworkX is a Python package for the creation, manipulation,\n",
      "    and study of the structure, dynamics, and functions\n",
      "    of complex networks.\n",
      "    \n",
      "    Website (including documentation)::\n",
      "    \n",
      "        http://networkx.github.io\n",
      "    \n",
      "    Mailing list::\n",
      "    \n",
      "        https://groups.google.com/forum/#!forum/networkx-discuss\n",
      "    \n",
      "    Source::\n",
      "    \n",
      "        https://github.com/networkx/networkx\n",
      "    \n",
      "    Bug reports::\n",
      "    \n",
      "        https://github.com/networkx/networkx/issues\n",
      "    \n",
      "    Simple example\n",
      "    --------------\n",
      "    \n",
      "    Find the shortest path between two nodes in an undirected graph::\n",
      "    \n",
      "        >>> import networkx as nx\n",
      "        >>> G = nx.Graph()\n",
      "        >>> G.add_edge('A', 'B', weight=4)\n",
      "        >>> G.add_edge('B', 'D', weight=2)\n",
      "        >>> G.add_edge('A', 'C', weight=3)\n",
      "        >>> G.add_edge('C', 'D', weight=4)\n",
      "        >>> nx.shortest_path(G, 'A', 'D', weight='weight')\n",
      "        ['A', 'B', 'D']\n",
      "    \n",
      "    Bugs\n",
      "    ----\n",
      "    \n",
      "    Please report any bugs that you find `here <https://github.com/networkx/networkx/issues>`_.\n",
      "    Or, even better, fork the repository on GitHub and create a pull request (PR).\n",
      "    \n",
      "    License\n",
      "    -------\n",
      "    \n",
      "    Released under the 3-Clause BSD license::\n",
      "    \n",
      "       Copyright (C) 2004-2018 NetworkX Developers\n",
      "       Aric Hagberg <hagberg@lanl.gov>\n",
      "       Dan Schult <dschult@colgate.edu>\n",
      "       Pieter Swart <swart@lanl.gov>\n",
      "\n",
      "PACKAGE CONTENTS\n",
      "    algorithms (package)\n",
      "    classes (package)\n",
      "    convert\n",
      "    convert_matrix\n",
      "    drawing (package)\n",
      "    exception\n",
      "    generators (package)\n",
      "    linalg (package)\n",
      "    readwrite (package)\n",
      "    relabel\n",
      "    release\n",
      "    testing (package)\n",
      "    tests (package)\n",
      "    utils (package)\n",
      "    version\n",
      "\n",
      "SUBMODULES\n",
      "    adjacency\n",
      "    adjlist\n",
      "    algebraicconnectivity\n",
      "    all\n",
      "    assortativity\n",
      "    astar\n",
      "    atlas\n",
      "    attracting\n",
      "    attrmatrix\n",
      "    beamsearch\n",
      "    betweenness\n",
      "    betweenness_subset\n",
      "    biconnected\n",
      "    binary\n",
      "    bipartite\n",
      "    boundary\n",
      "    breadth_first_search\n",
      "    centrality\n",
      "    chains\n",
      "    chordal\n",
      "    classic\n",
      "    clique\n",
      "    closeness\n",
      "    cluster\n",
      "    coloring\n",
      "    communicability_alg\n",
      "    community\n",
      "    components\n",
      "    connected\n",
      "    connectivity\n",
      "    core\n",
      "    coreviews\n",
      "    correlation\n",
      "    covering\n",
      "    current_flow_betweenness\n",
      "    current_flow_betweenness_subset\n",
      "    current_flow_closeness\n",
      "    cuts\n",
      "    cycles\n",
      "    cytoscape\n",
      "    dag\n",
      "    degree_alg\n",
      "    degree_seq\n",
      "    dense\n",
      "    depth_first_search\n",
      "    digraph\n",
      "    directed\n",
      "    distance_measures\n",
      "    distance_regular\n",
      "    dominance\n",
      "    dominating\n",
      "    duplication\n",
      "    edgedfs\n",
      "    edgelist\n",
      "    ego\n",
      "    eigenvector\n",
      "    euler\n",
      "    expanders\n",
      "    filters\n",
      "    flow\n",
      "    flow_matrix\n",
      "    function\n",
      "    generic\n",
      "    geometric\n",
      "    gexf\n",
      "    gml\n",
      "    gpickle\n",
      "    graph\n",
      "    graph6\n",
      "    graphical\n",
      "    graphmatrix\n",
      "    graphml\n",
      "    graphviews\n",
      "    harmonic\n",
      "    hierarchy\n",
      "    hits_alg\n",
      "    hybrid\n",
      "    isolate\n",
      "    isomorphism\n",
      "    jit\n",
      "    joint_degree_seq\n",
      "    json_graph\n",
      "    katz\n",
      "    laplacianmatrix\n",
      "    lattice\n",
      "    layout\n",
      "    leda\n",
      "    line\n",
      "    link_analysis\n",
      "    link_prediction\n",
      "    load\n",
      "    lowest_common_ancestors\n",
      "    matching\n",
      "    minors\n",
      "    mis\n",
      "    mixing\n",
      "    modularitymatrix\n",
      "    multidigraph\n",
      "    multigraph\n",
      "    multiline_adjlist\n",
      "    mycielski\n",
      "    neighbor_degree\n",
      "    node_link\n",
      "    nx_agraph\n",
      "    nx_pydot\n",
      "    nx_pylab\n",
      "    nx_shp\n",
      "    nx_yaml\n",
      "    operators\n",
      "    ordered\n",
      "    pagerank_alg\n",
      "    pairs\n",
      "    pajek\n",
      "    product\n",
      "    random_clustered\n",
      "    random_graphs\n",
      "    reaching\n",
      "    reportviews\n",
      "    richclub\n",
      "    semiconnected\n",
      "    shortest_paths\n",
      "    similarity\n",
      "    simple_paths\n",
      "    small\n",
      "    smetric\n",
      "    social\n",
      "    sparse6\n",
      "    spectrum\n",
      "    stochastic\n",
      "    strongly_connected\n",
      "    structuralholes\n",
      "    subgraph_alg\n",
      "    swap\n",
      "    tournament\n",
      "    traversal\n",
      "    tree\n",
      "    trees\n",
      "    triads\n",
      "    unary\n",
      "    unweighted\n",
      "    vitality\n",
      "    voronoi\n",
      "    weakly_connected\n",
      "    weighted\n",
      "    wiener\n",
      "\n",
      "DATA\n",
      "    __bibtex__ = '@inproceedings{hagberg-2008-exploring,\\nauthor = ...\\nad...\n",
      "    __license__ = 'BSD'\n",
      "    absolute_import = _Feature((2, 5, 0, 'alpha', 1), (3, 0, 0, 'alpha', 0...\n",
      "\n",
      "VERSION\n",
      "    2.1\n",
      "\n",
      "DATE\n",
      "    Wed Oct  9 01:04:27 2019\n",
      "\n",
      "AUTHOR\n",
      "    Aric Hagberg <hagberg@lanl.gov>\n",
      "    Dan Schult <dschult@colgate.edu>\n",
      "    Pieter Swart <swart@lanl.gov>\n",
      "\n",
      "FILE\n",
      "    /Users/zhikuncheng/anaconda3/lib/python3.6/site-packages/networkx/__init__.py\n",
      "\n",
      "\n"
     ]
    }
   ],
   "source": [
    "import networkx as nx\n",
    "help(nx)"
   ]
  },
  {
   "cell_type": "markdown",
   "metadata": {},
   "source": [
    "## 二叉树"
   ]
  },
  {
   "cell_type": "code",
   "execution_count": 2,
   "metadata": {},
   "outputs": [],
   "source": [
    "from binarytree import tree, bst, heap"
   ]
  },
  {
   "cell_type": "code",
   "execution_count": 1,
   "metadata": {},
   "outputs": [],
   "source": [
    "class Node():\n",
    "    def __init__(self, k=None, l=None, r=None):\n",
    "        self.key = k\n",
    "        self.left = l\n",
    "        self.right = r"
   ]
  },
  {
   "cell_type": "markdown",
   "metadata": {},
   "source": [
    "### 层次遍历构建树"
   ]
  },
  {
   "cell_type": "code",
   "execution_count": 29,
   "metadata": {},
   "outputs": [],
   "source": [
    "def get_tree(root, values):\n",
    "    if len(values) > 0:\n",
    "        a = values.pop(0)\n",
    "        if a is '#':\n",
    "            root = None\n",
    "        else:\n",
    "            root = Node(value=a)\n",
    "            root.left = get_tree(root.left, values)\n",
    "            root.right = get_tree(root.right, values)\n",
    "        return root\n",
    "    else:\n",
    "        return None"
   ]
  },
  {
   "cell_type": "markdown",
   "metadata": {},
   "source": [
    "### 前、中序构建"
   ]
  },
  {
   "cell_type": "code",
   "execution_count": 22,
   "metadata": {
    "scrolled": true
   },
   "outputs": [
    {
     "data": {
      "text/plain": [
       "[4,\n",
       " 7,\n",
       " 8,\n",
       " 5,\n",
       " 2,\n",
       " 6,\n",
       " 3,\n",
       " 1,\n",
       " 4,\n",
       " 7,\n",
       " 8,\n",
       " 5,\n",
       " 2,\n",
       " 6,\n",
       " 3,\n",
       " 1,\n",
       " 4,\n",
       " 7,\n",
       " 8,\n",
       " 5,\n",
       " 2,\n",
       " 6,\n",
       " 3,\n",
       " 1,\n",
       " 4,\n",
       " 7,\n",
       " 8,\n",
       " 5,\n",
       " 2,\n",
       " 6,\n",
       " 3,\n",
       " 1,\n",
       " 4,\n",
       " 7,\n",
       " 8,\n",
       " 5,\n",
       " 2,\n",
       " 6,\n",
       " 3,\n",
       " 1,\n",
       " 4,\n",
       " 7,\n",
       " 8,\n",
       " 5,\n",
       " 2,\n",
       " 6,\n",
       " 3,\n",
       " 1,\n",
       " 4,\n",
       " 7,\n",
       " 8,\n",
       " 5,\n",
       " 2,\n",
       " 6,\n",
       " 3,\n",
       " 1,\n",
       " 4,\n",
       " 7,\n",
       " 8,\n",
       " 5,\n",
       " 2,\n",
       " 6,\n",
       " 3,\n",
       " 1,\n",
       " 4,\n",
       " 7,\n",
       " 8,\n",
       " 5,\n",
       " 2,\n",
       " 6,\n",
       " 3,\n",
       " 1,\n",
       " 4,\n",
       " 7,\n",
       " 8,\n",
       " 5,\n",
       " 2,\n",
       " 6,\n",
       " 3,\n",
       " 1,\n",
       " 4,\n",
       " 7,\n",
       " 8,\n",
       " 5,\n",
       " 2,\n",
       " 6,\n",
       " 3,\n",
       " 1,\n",
       " 4,\n",
       " 7,\n",
       " 8,\n",
       " 5,\n",
       " 2,\n",
       " 6,\n",
       " 3,\n",
       " 1]"
      ]
     },
     "execution_count": 22,
     "metadata": {},
     "output_type": "execute_result"
    }
   ],
   "source": [
    "pre=[1, 2, 4, 5, 7, 8, 3, 6]\n",
    "mid = [4, 2, 7, 5, 8, 1, 3, 6]\n",
    "test_tree=None\n",
    "def get_tree_with_pre_mid(pre, mid):\n",
    "    if len(pre) > 0:\n",
    "        root = Node(k=pre[0])\n",
    "        root_index = mid.index(pre[0])\n",
    "        root.left = get_tree_with_pre_mid(pre[1:root_index + 1], mid[:root_index])\n",
    "        root.right = get_tree_with_pre_mid(pre[root_index + 1:], mid[root_index + 1:])\n",
    "        return root\n",
    "    else:\n",
    "        return None\n",
    "test_tree=get_tree_with_pre_mid(pre,mid)\n",
    "post_order(test_tree)"
   ]
  },
  {
   "cell_type": "markdown",
   "metadata": {},
   "source": [
    "### 后中序构建"
   ]
  },
  {
   "cell_type": "code",
   "execution_count": 35,
   "metadata": {},
   "outputs": [
    {
     "data": {
      "text/plain": [
       "[1, 2, 4, 5, 7, 8, 3, 6, 1, 2, 4, 5, 7, 8, 3, 6, 1, 2, 4, 5, 7, 8, 3, 6]"
      ]
     },
     "execution_count": 35,
     "metadata": {},
     "output_type": "execute_result"
    }
   ],
   "source": [
    "post = [4, 7, 8, 5, 2, 6, 3, 1]\n",
    "mid = [4, 2, 7, 5, 8, 1, 3, 6]\n",
    "def get_tree_with_post_mid(post, mid):\n",
    "    if len(post) > 0:\n",
    "        root = Node(k=post[-1])\n",
    "        root_index = mid.index(root.key)\n",
    "        root.left = get_tree_with_post_mid(post[ :root_index], mid[:root_index])\n",
    "        root.right = get_tree_with_post_mid(post[root_index:-1 ], mid[root_index + 1:])\n",
    "        return root\n",
    "    else:\n",
    "        return None\n",
    "test_tree=get_tree_with_post_mid(post,mid)\n",
    "pre_order(test_tree)"
   ]
  },
  {
   "cell_type": "code",
   "execution_count": 7,
   "metadata": {},
   "outputs": [],
   "source": [
    "node_l = [1, 2, 3, 4, 5, None, 6, None, None, 7, 8]\n",
    "def creatTree(nodeList):\n",
    "    if nodeList[0] == None:\n",
    "        return None\n",
    "    head = Node(nodeList[0])\n",
    "    Nodes = [head]\n",
    "    j = 1\n",
    "    for node in Nodes:\n",
    "        if node != None:\n",
    "            node.left = (Node(nodeList[j]) if nodeList[j] != None else None)\n",
    "            Nodes.append(node.left)\n",
    "            j += 1\n",
    "            if j == len(nodeList):\n",
    "                return head\n",
    "            node.right = (Node(nodeList[j]) if nodeList[j] != None else None)\n",
    "            j += 1\n",
    "            Nodes.append(node.right)\n",
    "            if j == len(nodeList):\n",
    "                return head\n",
    "tree = creatTree(node_l)"
   ]
  },
  {
   "cell_type": "markdown",
   "metadata": {},
   "source": [
    "### 各种遍历"
   ]
  },
  {
   "cell_type": "code",
   "execution_count": 26,
   "metadata": {},
   "outputs": [
    {
     "data": {
      "text/plain": [
       "[1, 2, 4, 5, 7, 8, 3, 6]"
      ]
     },
     "execution_count": 26,
     "metadata": {},
     "output_type": "execute_result"
    }
   ],
   "source": [
    "def pre_order(root, post_str=[]):  # 前序遍历\n",
    "    if root is None:\n",
    "        return\n",
    "    else:\n",
    "        post_str.append(root.key)\n",
    "        pre_order(root.left)\n",
    "        pre_order(root.right)\n",
    "        return post_str\n",
    "pre_order(tree)"
   ]
  },
  {
   "cell_type": "code",
   "execution_count": 25,
   "metadata": {},
   "outputs": [
    {
     "data": {
      "text/plain": [
       "[4, 2, 7, 5, 8, 1, 3, 6]"
      ]
     },
     "execution_count": 25,
     "metadata": {},
     "output_type": "execute_result"
    }
   ],
   "source": [
    "def mid_order(root, post_str=[]):  # 中序遍历\n",
    "    if root is None:\n",
    "        return\n",
    "    else:\n",
    "        mid_order(root.left)\n",
    "        post_str.append(root.key)\n",
    "        mid_order(root.right)\n",
    "        return post_str\n",
    "mid_order(tree)"
   ]
  },
  {
   "cell_type": "code",
   "execution_count": 24,
   "metadata": {},
   "outputs": [
    {
     "data": {
      "text/plain": [
       "[4, 7, 8, 5, 2, 6, 3, 1]"
      ]
     },
     "execution_count": 24,
     "metadata": {},
     "output_type": "execute_result"
    }
   ],
   "source": [
    "def post_order(root, post_str=[]):  # 后序遍历\n",
    "    if root is None:\n",
    "        return\n",
    "    else:\n",
    "        post_order(root.left, post_str)\n",
    "        post_order(root.right, post_str)\n",
    "        post_str.append(root.key)\n",
    "        return post_str\n",
    "post_order(tree)"
   ]
  },
  {
   "cell_type": "markdown",
   "metadata": {},
   "source": [
    "### 求最大深度"
   ]
  },
  {
   "cell_type": "code",
   "execution_count": 13,
   "metadata": {},
   "outputs": [
    {
     "data": {
      "text/plain": [
       "4"
      ]
     },
     "execution_count": 13,
     "metadata": {},
     "output_type": "execute_result"
    }
   ],
   "source": [
    "def get_max_depth(root):\n",
    "    if not root:\n",
    "        return 0\n",
    "    left = get_max_depth(root.left) + 1\n",
    "    right = get_max_depth(root.right) + 1\n",
    "    return max(left, right)\n",
    "get_max_depth(tree)"
   ]
  },
  {
   "cell_type": "markdown",
   "metadata": {},
   "source": [
    "## 动态规划"
   ]
  },
  {
   "cell_type": "markdown",
   "metadata": {},
   "source": [
    "## 其他类型"
   ]
  },
  {
   "cell_type": "markdown",
   "metadata": {},
   "source": [
    "### bye-bye-5"
   ]
  },
  {
   "cell_type": "code",
   "execution_count": 16,
   "metadata": {},
   "outputs": [
    {
     "data": {
      "text/plain": [
       "763"
      ]
     },
     "execution_count": 16,
     "metadata": {},
     "output_type": "execute_result"
    }
   ],
   "source": [
    "def bye_bye_5(n):\n",
    "    circle = list(range(1, n + 1))\n",
    "    bye = 0\n",
    "    bye_count = 0\n",
    "    while bye_count < len(circle) - 1:\n",
    "        for i in range(len(circle)):\n",
    "            if circle[i] != 0:\n",
    "                if bye == 5:\n",
    "                    bye = 1\n",
    "                else:\n",
    "                    bye += 1\n",
    "                if bye == 5:\n",
    "                    circle[i] = 0\n",
    "                    bye_count += 1\n",
    "    for i in circle:\n",
    "        if i != 0:\n",
    "            return i\n",
    "bye_bye_5(1000)"
   ]
  },
  {
   "cell_type": "markdown",
   "metadata": {},
   "source": [
    "### 小偷-thief"
   ]
  },
  {
   "cell_type": "code",
   "execution_count": 18,
   "metadata": {},
   "outputs": [
    {
     "data": {
      "text/plain": [
       "'c'"
      ]
     },
     "execution_count": 18,
     "metadata": {},
     "output_type": "execute_result"
    }
   ],
   "source": [
    "def get_thief():\n",
    "    logic = [0, 0, 0, 0]\n",
    "    for thief in ['a', 'b', 'c', 'd']:\n",
    "        logic[0] = 1 if 'a' != thief else 0\n",
    "        logic[1] = 1 if 'c' == thief else 0\n",
    "        logic[2] = 1 if 'd' == thief else 0\n",
    "        logic[3] = 1 if 'd' != thief else 0\n",
    "        if sum(logic) == 3:\n",
    "            return thief\n",
    "get_thief()"
   ]
  },
  {
   "cell_type": "code",
   "execution_count": null,
   "metadata": {},
   "outputs": [],
   "source": []
  }
 ],
 "metadata": {
  "kernelspec": {
   "display_name": "Python 3",
   "language": "python",
   "name": "python3"
  },
  "language_info": {
   "codemirror_mode": {
    "name": "ipython",
    "version": 3
   },
   "file_extension": ".py",
   "mimetype": "text/x-python",
   "name": "python",
   "nbconvert_exporter": "python",
   "pygments_lexer": "ipython3",
   "version": "3.6.8"
  }
 },
 "nbformat": 4,
 "nbformat_minor": 4
}
