{
 "cells": [
  {
   "cell_type": "code",
   "execution_count": 1,
   "metadata": {},
   "outputs": [
    {
     "name": "stdout",
     "output_type": "stream",
     "text": [
      "    cityid cityname  provinceid provincename  parentid\n",
      "0     1012      周口市        1000          河南省       999\n",
      "1     1014     平顶山市        1000          河南省       999\n",
      "2     1002      商丘市        1000          河南省       999\n",
      "3     1016      新乡市        1000          河南省       999\n",
      "4     1009      南阳市        1000          河南省       999\n",
      "5     1011      信阳市        1000          河南省       999\n",
      "6     1003      开封市        1000          河南省       999\n",
      "7     1018      鹤壁市        1000          河南省       999\n",
      "8     1005      安阳市        1000          河南省       999\n",
      "9     1004      洛阳市        1000          河南省       999\n",
      "10    1001      郑州市        1000          河南省       999\n",
      "11    1015     三门峡市        1000          河南省       999\n",
      "12    1017      许昌市        1000          河南省       999\n",
      "13    1010      漯河市        1000          河南省       999\n",
      "14    1007      焦作市        1000          河南省       999\n",
      "15    1006      濮阳市        1000          河南省       999\n",
      "16    1013     驻马店市        1000          河南省       999\n",
      "17    1008      济源市        1000          河南省       999\n",
      "          EnodebId            EnodebName EnodebType        countryid  \\\n",
      "0  100010975325094          洛阳市偃师布村F-HLH     ENODEB             1048   \n",
      "1  100011287557223    洛阳市涧西东方医院住院部1E-HLW     ENODEB  100012643260583   \n",
      "2  100011305514648     洛阳市涧西高新区丹尼斯1E-HLW     ENODEB  100012643260583   \n",
      "3  100011305514649  洛阳市涧西河科大一附院外科楼1E-HLW     ENODEB  100012643260583   \n",
      "4  100011305514650       洛阳市涧西容威家电1E-HLW     ENODEB  100012643260583   \n",
      "\n",
      "  EnodebStatus  \n",
      "0           在网  \n",
      "1           在网  \n",
      "2           在网  \n",
      "3           在网  \n",
      "4           在网  \n",
      "cityid        18\n",
      "cityname      18\n",
      "provinceid    18\n",
      "dtype: int64\n",
      "countryid      188\n",
      "countryname    188\n",
      "cityid         188\n",
      "dtype: int64\n",
      "EnodebId        49772\n",
      "EnodebName      49772\n",
      "EnodebType      49772\n",
      "countryid       49772\n",
      "EnodebStatus    49772\n",
      "dtype: int64\n",
      "EnodebId        50000\n",
      "EnodebName      50000\n",
      "EnodebType      50000\n",
      "countryid       50000\n",
      "EnodebStatus    50000\n",
      "dtype: int64\n",
      "[('洛阳市', 55842), ('郑州市', 23814), ('安阳市', 18884)]\n"
     ]
    }
   ],
   "source": [
    "import numpy as np\n",
    "import pandas as pd\n",
    "\n",
    "filename='C:\\\\题面\\\\市区域.csv'\n",
    "f=open(filename,'r',errors='ignore',encoding='UTF8')\n",
    "df=pd.read_csv(f,header=None)\n",
    "f.close()\n",
    "\n",
    "df.columns=['cityid','cityname','provinceid']\n",
    "\n",
    "filename='C:\\\\题面\\\\省区域.csv'\n",
    "f=open(filename,'r',errors='ignore',encoding='UTF8')\n",
    "df0=pd.read_csv(f,header=None)\n",
    "f.close()\n",
    "\n",
    "df0.columns=['provinceid','provincename','parentid']\n",
    "\n",
    "df_c_p=pd.merge(df,df0,how='inner',on='provinceid') \n",
    "print(df_c_p)\n",
    "\n",
    "filename='C:\\\\题面\\\\县区区域.csv'\n",
    "f=open(filename,'r',errors='ignore',encoding='UTF8')\n",
    "df2=pd.read_csv(f,header=None)\n",
    "f.close()\n",
    "df2.columns=['countryid','countryname','cityid']\n",
    "\n",
    "filename='C:\\\\题面\\\\基站.csv'\n",
    "f=open(filename,'r',errors='ignore',encoding='UTF8')\n",
    "df3=pd.read_csv(f,header=None)\n",
    "f.close()\n",
    "\n",
    "df3.columns=['EnodebId','EnodebName','EnodebType','countryid','EnodebStatus']\n",
    "print(df3.head())\n",
    "\n",
    "# ------第一道题-----\n",
    "print(df.count()) #市的数量\n",
    "print(df2.count()) #县区的数量\n",
    "print(df3[df3['EnodebStatus'].isin(['在网'])].count()) #在网状态的基站数\n",
    "print(df3.count()) #整体的基站数\n",
    "\n",
    "#------第二道题-------------\n",
    "df_c_p_p=pd.merge(df_c_p,df2,how='inner',on='cityid')  \n",
    "df_c_p_p_e=pd.merge(df_c_p_p,df3,how='inner',on='countryid')\n",
    "\n",
    "filename='C:\\\\题面\\\\告警.csv'\n",
    "f=open(filename,'r',errors='ignore',encoding='UTF8')\n",
    "df4=pd.read_csv(f,header=None)\n",
    "f.close()\n",
    "\n",
    "df4.columns=['id1','alertid','date1','date2','EnodebName']\n",
    "df_all=pd.merge(df_c_p_p_e,df4,how='inner',on='EnodebName') #连接成为一个大表 df_all\n",
    "\n",
    "A1=df_all.groupby('cityname').cityid.count() #分组统计 cityname 的告警次数\n",
    "dict1=dict(A1) #将统计结果转换为字典\n",
    "A2=sorted(dict1.items(),key=lambda e:e[1],reverse=True) #对字典里的value排序\n",
    "print(A2[0:3]) #显示前三个城市与告警次数\n",
    "\n",
    "\n",
    "\n"
   ]
  },
  {
   "cell_type": "code",
   "execution_count": 2,
   "metadata": {},
   "outputs": [
    {
     "name": "stdout",
     "output_type": "stream",
     "text": [
      "[('洛阳市', 47054), ('南阳市', 5559), ('信阳市', 4935)]\n"
     ]
    }
   ],
   "source": [
    "#第二题\n",
    "from datetime import datetime\n",
    "dt = datetime(2018, 8, 8, 0, 0,0)\n",
    "dt2 = datetime(2018, 8, 9, 0, 0,0)\n",
    "dict1={}\n",
    "s=0\n",
    "for i in range(df_all.cityid.count()):\n",
    "    a1=df_all.iloc[i]\n",
    "    cday = datetime.strptime(a1.date1, '%Y/%m/%d %H:%M:%S')\n",
    "    if cday>=dt and cday<dt2:\n",
    "        s=s+1\n",
    "        if a1.cityname in dict1:\n",
    "            dict1[a1.cityname]=dict1[a1.cityname]+1\n",
    "        else:\n",
    "            dict1[a1.cityname]=1\n",
    "\n",
    "A2=sorted(dict1.items(),key=lambda e:e[1],reverse=True) #对字典里的value排序\n",
    "print(A2[0:3]) #显示前三个城市与告警次数"
   ]
  },
  {
   "cell_type": "code",
   "execution_count": 3,
   "metadata": {},
   "outputs": [
    {
     "name": "stdout",
     "output_type": "stream",
     "text": [
      "171180 171180\n"
     ]
    }
   ],
   "source": [
    "# 为df_all 增加三列(开始相对时间,结束相对时间, 处理时间) 单位:秒\n",
    "tlist1=[]\n",
    "tlist2=[]\n",
    "\n",
    "for i in range(df_all.cityid.count()):\n",
    "    a1=df_all.iloc[i]\n",
    "    cday = datetime.strptime(a1.date1, '%Y/%m/%d %H:%M:%S')\n",
    "    tlist1.append(cday.timestamp()-dt.timestamp())\n",
    "    cday2 = datetime.strptime(a1.date2, '%Y/%m/%d %H:%M:%S')\n",
    "    tlist2.append(cday2.timestamp()-dt.timestamp())\n",
    "print(len(tlist1),len(tlist2))"
   ]
  },
  {
   "cell_type": "code",
   "execution_count": 4,
   "metadata": {},
   "outputs": [],
   "source": [
    "df_all[\"nTime1\"]=tlist1\n",
    "df_all[\"nTime2\"]=tlist2\n",
    "df_all[\"nTimeDiff\"]=df_all[\"nTime2\"]-df_all[\"nTime1\"]"
   ]
  },
  {
   "cell_type": "code",
   "execution_count": 5,
   "metadata": {},
   "outputs": [],
   "source": [
    "# 定义函数, 根据相对秒数, 还原日期\n",
    "def computedate(ts):\n",
    "    x = datetime(2018, 8, 8, 0, 0,0)\n",
    "    D=x.timestamp()+ts\n",
    "    A=datetime.fromtimestamp(D)\n",
    "    return A.strftime(\"%Y/%m/%d %H:%M:%S\")"
   ]
  },
  {
   "cell_type": "code",
   "execution_count": 6,
   "metadata": {},
   "outputs": [
    {
     "name": "stdout",
     "output_type": "stream",
     "text": [
      "1005 {'alarm': '一级', 'starttime': 7440, 'endtime': 7620} 112\n",
      "1005 {'alarm': '二级', 'starttime': 7440, 'endtime': 7680} 48\n"
     ]
    }
   ],
   "source": [
    "# 第三道题 3.1\n",
    "dict3={}\n",
    "dict3A={}\n",
    "for i in range(0,86400,60):\n",
    "    dict2=dict(df_all[(df_all.alertid=='007-103-00-040012') &  (df_all.nTime1<i) & (df_all.nTime2>i)].groupby('cityid')['cityname'].count())\n",
    "    # 当前每个城市 告警次数\n",
    "    for k in dict2:\n",
    "        if dict2[k]>=60:\n",
    "            if k not in dict3:\n",
    "                dict3[k]={}\n",
    "                dict3[k]['alarm']='二级'\n",
    "                dict3[k]['starttime']=i\n",
    "                #print(k,dict2[k],'begin')\n",
    "        elif dict2[k]<60:\n",
    "            if k in dict3: \n",
    "                dict3[k]['endtime']=i\n",
    "                print(k,dict3[k],dict2[k])\n",
    "                dict3.pop(k)\n",
    "        if dict2[k]>=150:\n",
    "            if k not in dict3A:\n",
    "                dict3A[k]={}\n",
    "                dict3A[k]['alarm']='一级'\n",
    "                dict3A[k]['starttime']=i\n",
    "                #print(k,dict2[k],'begin')\n",
    "        elif dict2[k]<150:\n",
    "            if k in dict3A: \n",
    "                dict3A[k]['endtime']=i\n",
    "                print(k,dict3A[k],dict2[k])\n",
    "                dict3A.pop(k)\n",
    "\n",
    "    "
   ]
  },
  {
   "cell_type": "code",
   "execution_count": 7,
   "metadata": {
    "scrolled": true
   },
   "outputs": [
    {
     "name": "stdout",
     "output_type": "stream",
     "text": [
      "1005 {'alarm': '一级', 'starttime': '2018/08/08 02:03:54', 'endtime': '2018/08/08 02:06:03'} 149\n",
      "1005 {'alarm': '二级', 'starttime': '2018/08/08 02:03:27', 'endtime': '2018/08/08 02:07:59'} 49\n"
     ]
    }
   ],
   "source": [
    "# 第三道题 3.2 精准锁定时间到秒\n",
    "dict3={}\n",
    "dict3A={}\n",
    "targetcity='1005'\n",
    "time1=7440\n",
    "time2=7680\n",
    "for i in range(time1-60,time2+60,1):\n",
    "    dict2=dict(df_all[(df_all.cityid.isin([targetcity])) &  (df_all.alertid=='007-103-00-040012') &  (df_all.nTime1<i) & (df_all.nTime2>i)].groupby('cityid')['cityname'].count())\n",
    "    # 当前每个城市 告警次数\n",
    "    for k in dict2:\n",
    "        if dict2[k]>=60:\n",
    "            if k not in dict3:\n",
    "                dict3[k]={}\n",
    "                dict3[k]['alarm']='二级'\n",
    "                dict3[k]['starttime']=computedate(i)\n",
    "                #print(k,dict2[k],'begin')\n",
    "        elif dict2[k]<60:\n",
    "            if k in dict3: \n",
    "                dict3[k]['endtime']=computedate(i)\n",
    "                print(k,dict3[k],dict2[k])\n",
    "                dict3.pop(k)\n",
    "        if dict2[k]>=150:\n",
    "            if k not in dict3A:\n",
    "                dict3A[k]={}\n",
    "                dict3A[k]['alarm']='一级'\n",
    "                dict3A[k]['starttime']=computedate(i)\n",
    "                #print(k,dict2[k],'begin')\n",
    "        elif dict2[k]<150:\n",
    "            if k in dict3A: \n",
    "                dict3A[k]['endtime']=computedate(i)\n",
    "                print(k,dict3A[k],dict2[k])\n",
    "                dict3A.pop(k)\n",
    "\n",
    "    "
   ]
  },
  {
   "cell_type": "code",
   "execution_count": 8,
   "metadata": {
    "scrolled": true
   },
   "outputs": [
    {
     "name": "stdout",
     "output_type": "stream",
     "text": [
      "1004 {'alarm': '一级', 'starttime': '2018/08/08 02:51:00', 'startvalue': 864511.0, 'endtime': '2018/08/08 06:47:00'} 775531.0\n",
      "1004 {'alarm': '二级', 'starttime': '2018/08/08 00:00:00', 'startvalue': 808781.0, 'endtime': '2018/08/08 07:08:00'} 2741.0\n"
     ]
    }
   ],
   "source": [
    "#第四道题\n",
    "\n",
    "dict3={}\n",
    "dict3A={}\n",
    "for i in range(0,86400,60):\n",
    "    dict2=dict(df_all[(df_all.alertid=='007-103-00-040012') &  (df_all.nTime1<i) & (df_all.nTime2>i)].groupby('cityid')['nTimeDiff'].sum())\n",
    "    # 当前每个城市 告警次数\n",
    "    for k in dict2:\n",
    "        if dict2[k]>=432000:\n",
    "            if k not in dict3:\n",
    "                dict3[k]={}\n",
    "                dict3[k]['alarm']='二级'\n",
    "                dict3[k]['starttime']=computedate(i)\n",
    "                dict3[k]['startvalue']=dict2[k]\n",
    "        elif dict2[k]<432000:\n",
    "            if k in dict3: \n",
    "                dict3[k]['endtime']=computedate(i)\n",
    "                print(k,dict3[k],dict2[k])\n",
    "                dict3.pop(k)\n",
    "        if dict2[k]>=864000:\n",
    "            if k not in dict3A:\n",
    "                dict3A[k]={}\n",
    "                dict3A[k]['alarm']='一级'\n",
    "                dict3A[k]['starttime']=computedate(i)\n",
    "                dict3A[k]['startvalue']=dict2[k]\n",
    "                #print(k,dict2[k],'begin')\n",
    "        elif dict2[k]<864000:\n",
    "            if k in dict3A: \n",
    "                dict3A[k]['endtime']=computedate(i)\n",
    "                print(k,dict3A[k],dict2[k])\n",
    "                dict3A.pop(k)\n"
   ]
  },
  {
   "cell_type": "code",
   "execution_count": 18,
   "metadata": {},
   "outputs": [],
   "source": [
    "# 第五题\n",
    "# 以城市为准的基站数量\n",
    "dict2=dict(df_c_p_p_e[(df_c_p_p_e.EnodebStatus.isin(['在网']))].groupby('cityid')['cityname'].count())\n",
    "# 以城市为准统计基站报错时常(累计)\n",
    "dict3=dict(df_all[(df_all.alertid=='007-103-00-040012') &  (df_all.nTime1>=0) & (df_all.nTime1<86400)].groupby('cityid')['nTimeDiff'].sum())\n",
    "dict4={}\n",
    "for k in dict3:\n",
    "    dict4[k]=1-dict3[k]/(dict2[k]*86400)\n",
    "A4=sorted(dict4.items(),key=lambda e:e[1],reverse=False) #对字典里的value排序\n",
    "print(A4[0]) #显示最差的那个城市的基站可用率"
   ]
  },
  {
   "cell_type": "code",
   "execution_count": 22,
   "metadata": {},
   "outputs": [
    {
     "name": "stdout",
     "output_type": "stream",
     "text": [
      "(1018, 0.9991195023148148)\n"
     ]
    }
   ],
   "source": []
  },
  {
   "cell_type": "code",
   "execution_count": null,
   "metadata": {},
   "outputs": [],
   "source": []
  }
 ],
 "metadata": {
  "kernelspec": {
   "display_name": "Python 3",
   "language": "python",
   "name": "python3"
  },
  "language_info": {
   "codemirror_mode": {
    "name": "ipython",
    "version": 3
   },
   "file_extension": ".py",
   "mimetype": "text/x-python",
   "name": "python",
   "nbconvert_exporter": "python",
   "pygments_lexer": "ipython3",
   "version": "3.6.1"
  }
 },
 "nbformat": 4,
 "nbformat_minor": 2
}
